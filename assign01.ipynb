{
  "nbformat": 4,
  "nbformat_minor": 0,
  "metadata": {
    "colab": {
      "provenance": [],
      "authorship_tag": "ABX9TyOcSBjPOQq/3huI50KWcVBN",
      "include_colab_link": true
    },
    "kernelspec": {
      "name": "python3",
      "display_name": "Python 3"
    },
    "language_info": {
      "name": "python"
    }
  },
  "cells": [
    {
      "cell_type": "markdown",
      "metadata": {
        "id": "view-in-github",
        "colab_type": "text"
      },
      "source": [
        "<a href=\"https://colab.research.google.com/github/seonmi0422/week01/blob/main/assign01.ipynb\" target=\"_parent\"><img src=\"https://colab.research.google.com/assets/colab-badge.svg\" alt=\"Open In Colab\"/></a>"
      ]
    },
    {
      "cell_type": "code",
      "execution_count": 1,
      "metadata": {
        "colab": {
          "base_uri": "https://localhost:8080/"
        },
        "id": "_GIu6sGA8wyr",
        "outputId": "16662e83-e775-40f6-e656-4094b2f02b7b"
      },
      "outputs": [
        {
          "output_type": "stream",
          "name": "stdout",
          "text": [
            "Current Time in Seoul: 15:03:31\n"
          ]
        }
      ],
      "source": [
        "# Simple code to print the current time in Seoul\n",
        "from datetime import datetime\n",
        "import pytz  # Import the pytz module for timezone calculations\n",
        "\n",
        "# Define the timezone for Seoul\n",
        "seoul_timezone = pytz.timezone('Asia/Seoul')\n",
        "\n",
        "# Get current time in Seoul's timezone\n",
        "now_seoul = datetime.now(seoul_timezone)\n",
        "\n",
        "# Format the time\n",
        "current_time_seoul = now_seoul.strftime(\"%H:%M:%S\")\n",
        "\n",
        "# Print the current time in Seoul\n",
        "print(\"Current Time in Seoul:\", current_time_seoul)\n",
        "\n"
      ]
    }
  ]
}