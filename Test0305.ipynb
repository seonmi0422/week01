{
  "nbformat": 4,
  "nbformat_minor": 0,
  "metadata": {
    "colab": {
      "provenance": [],
      "authorship_tag": "ABX9TyNexD0M25n/QRFjL2FT2rNX",
      "include_colab_link": true
    },
    "kernelspec": {
      "name": "python3",
      "display_name": "Python 3"
    },
    "language_info": {
      "name": "python"
    }
  },
  "cells": [
    {
      "cell_type": "markdown",
      "metadata": {
        "id": "view-in-github",
        "colab_type": "text"
      },
      "source": [
        "<a href=\"https://colab.research.google.com/github/seonmi0422/week01/blob/main/Test0305.ipynb\" target=\"_parent\"><img src=\"https://colab.research.google.com/assets/colab-badge.svg\" alt=\"Open In Colab\"/></a>"
      ]
    },
    {
      "cell_type": "code",
      "execution_count": 3,
      "metadata": {
        "id": "gqgD5pNbCKpC"
      },
      "outputs": [],
      "source": [
        "#my first coding page"
      ]
    },
    {
      "cell_type": "markdown",
      "source": [
        "#my first coding page"
      ],
      "metadata": {
        "id": "tQZButdPCZjX"
      }
    },
    {
      "cell_type": "markdown",
      "source": [],
      "metadata": {
        "id": "ojkcjuE5CV-s"
      }
    },
    {
      "cell_type": "markdown",
      "source": [],
      "metadata": {
        "id": "vsQKNhGEClIH"
      }
    },
    {
      "cell_type": "code",
      "source": [
        "name = input()\n",
        "print(\"hello\" , name)"
      ],
      "metadata": {
        "colab": {
          "base_uri": "https://localhost:8080/"
        },
        "id": "13bGoN4_ClwM",
        "outputId": "e4a52c36-2bca-4284-ac76-95f0c8b58c7f"
      },
      "execution_count": 5,
      "outputs": [
        {
          "output_type": "stream",
          "name": "stdout",
          "text": [
            "seonmi\n",
            "hello seonmi\n"
          ]
        }
      ]
    },
    {
      "cell_type": "code",
      "source": [
        "name = input()"
      ],
      "metadata": {
        "id": "laIiKstMDWYl"
      },
      "execution_count": null,
      "outputs": []
    }
  ]
}